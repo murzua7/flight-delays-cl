{
 "cells": [
  {
   "cell_type": "code",
   "execution_count": 1,
   "id": "30ce6b24-0c55-4a13-bc1e-c90f341f8fb2",
   "metadata": {},
   "outputs": [],
   "source": [
    "import mitosheet"
   ]
  },
  {
   "cell_type": "code",
   "execution_count": 2,
   "id": "625e0ce4-da05-429a-8e0f-98d288f83fb8",
   "metadata": {},
   "outputs": [
    {
     "data": {
      "application/vnd.jupyter.widget-view+json": {
       "model_id": "84d4feab94954978a43902e240b63c48",
       "version_major": 2,
       "version_minor": 0
      },
      "text/plain": [
       "MitoWidget(analysis_data_json='{\"analysisName\": \"UUID-42623fb3-0415-440e-a5b4-acfb46b5fd5a\", \"code\": {\"imports…"
      ]
     },
     "metadata": {},
     "output_type": "display_data"
    }
   ],
   "source": [
    "mitosheet.sheet()\n"
   ]
  },
  {
   "cell_type": "code",
   "execution_count": null,
   "id": "bad9e401-2d69-4516-91ea-cf688d432d5e",
   "metadata": {},
   "outputs": [],
   "source": [
    "from mitosheet import *; register_analysis('UUID-42623fb3-0415-440e-a5b4-acfb46b5fd5a')\n",
    "    \n",
    "# Imported C:\\Users\\Matias U\\Desktop\\Datasets\\2022\\global_power_plant_database.csv\n",
    "import pandas as pd\n",
    "global_power_plant_database = pd.read_csv(r'C:\\Users\\Matias U\\Desktop\\Datasets\\2022\\global_power_plant_database.csv')\n",
    "\n",
    "# Filtered country_long in global_power_plant_database\n",
    "global_power_plant_database = global_power_plant_database[global_power_plant_database['country_long'].str.contains('Chile', na=False)]\n"
   ]
  }
 ],
 "metadata": {
  "kernelspec": {
   "display_name": "Python 3 (ipykernel)",
   "language": "python",
   "name": "python3"
  },
  "language_info": {
   "codemirror_mode": {
    "name": "ipython",
    "version": 3
   },
   "file_extension": ".py",
   "mimetype": "text/x-python",
   "name": "python",
   "nbconvert_exporter": "python",
   "pygments_lexer": "ipython3",
   "version": "3.9.7"
  }
 },
 "nbformat": 4,
 "nbformat_minor": 5
}
